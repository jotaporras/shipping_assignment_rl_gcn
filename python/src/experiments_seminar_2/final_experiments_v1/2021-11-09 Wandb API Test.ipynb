{
 "cells": [
  {
   "cell_type": "markdown",
   "id": "7dc96e99-5f29-4e69-b9e0-9e243bb2f59b",
   "metadata": {},
   "source": [
    "# 2021-11-09 Notebook with Useful W&B API Functionality\n"
   ]
  },
  {
   "cell_type": "markdown",
   "id": "bcbbbd61-e6a9-49e2-b4a9-3d75209206a3",
   "metadata": {},
   "source": [
    "## Loading a run"
   ]
  },
  {
   "cell_type": "code",
   "execution_count": 1,
   "id": "e8cd97e8-dcb2-4268-b06f-1b16edcf394e",
   "metadata": {},
   "outputs": [],
   "source": [
    "import wandb\n",
    "api = wandb.Api()\n",
    "run = api.run(\"jotaporras/deleteme_final_experiment_test/uug91pt4\")"
   ]
  },
  {
   "cell_type": "markdown",
   "id": "5fcc904a-6a61-4140-ab54-f355ac0d97ac",
   "metadata": {},
   "source": [
    "## Check the run config"
   ]
  },
  {
   "cell_type": "code",
   "execution_count": 33,
   "id": "118d97ee-2ca4-440c-b3c2-b408c1683903",
   "metadata": {
    "tags": []
   },
   "outputs": [
    {
     "data": {
      "text/plain": [
       "{'env': {'num_dcs': 5,\n",
       "  'version': 'v2',\n",
       "  'demand_var': 150,\n",
       "  'demand_mean': 600,\n",
       "  'big_m_factor': 10000,\n",
       "  'num_customers': 20,\n",
       "  'orders_per_day': 1,\n",
       "  'num_commodities': 15,\n",
       "  'order_generator': 'normal_multivariate',\n",
       "  'reward_function': 'negative_log_cost_minus_log_big_m_units',\n",
       "  'dcs_per_customer': 3},\n",
       " 'hps': {'lr': 0.009,\n",
       "  'gamma': 0.8,\n",
       "  'eps_end': 0.01,\n",
       "  'eps_start': 0.01,\n",
       "  'sync_rate': 30,\n",
       "  'batch_size': 32,\n",
       "  'replay_size': 30,\n",
       "  'max_episodes': 100,\n",
       "  'episode_length': 30,\n",
       "  'gnn_hidden_units': 1024,\n",
       "  'warm_start_steps': 30,\n",
       "  'lambda_lr_sched_discount': 0.999992},\n",
       " 'seed': 655,\n",
       " 'agent': 'nn_mask_plus_consumption',\n",
       " 'hps/lr': 0.009,\n",
       " 'hps/gamma': 0.8,\n",
       " 'env/num_dcs': 5,\n",
       " 'env/version': 'v2',\n",
       " 'hps/eps_end': 0.01,\n",
       " 'hps/eps_start': 0.01,\n",
       " 'hps/sync_rate': 30,\n",
       " 'env/demand_var': 150,\n",
       " 'hps/batch_size': 32,\n",
       " 'env/demand_mean': 600,\n",
       " 'hps/replay_size': 30,\n",
       " 'env/big_m_factor': 10000,\n",
       " 'hps/max_episodes': 100,\n",
       " 'env/num_customers': 20,\n",
       " 'env/orders_per_day': 1,\n",
       " 'hps/episode_length': 30,\n",
       " 'env/num_commodities': 15,\n",
       " 'env/order_generator': 'normal_multivariate',\n",
       " 'env/reward_function': 'negative_log_cost_minus_log_big_m_units',\n",
       " 'env/dcs_per_customer': 3,\n",
       " 'hps/gnn_hidden_units': 1024,\n",
       " 'hps/warm_start_steps': 30,\n",
       " 'hps/lambda_lr_sched_discount': 0.999992}"
      ]
     },
     "execution_count": 33,
     "metadata": {},
     "output_type": "execute_result"
    }
   ],
   "source": [
    "run.config"
   ]
  },
  {
   "cell_type": "markdown",
   "id": "4b36a2b5-9415-4106-8284-93c5d7fc7646",
   "metadata": {},
   "source": [
    "## Check all columns"
   ]
  },
  {
   "cell_type": "code",
   "execution_count": 40,
   "id": "8c37ab7d-6df1-4ce8-b0a1-ab4a614be9c2",
   "metadata": {
    "tags": []
   },
   "outputs": [
    {
     "data": {
      "text/plain": [
       "Index(['big_m_count', 'trainer/global_step', 'incoming_interplants.dcs_0',\n",
       "       '_step', 'deliveries_per_shipping_point_units.dcs_0',\n",
       "       'mean_dcs_per_customer', 'episode_process_time_s',\n",
       "       'deliveries_per_shipping_point_orders.dcs_1', '_runtime',\n",
       "       'episode_process_time_ns', 'average_cost_ep', 'total_interplants',\n",
       "       'incoming_interplants.dcs_2',\n",
       "       'deliveries_per_shipping_point_orders.dcs_0',\n",
       "       'deliveries_per_shipping_point_units.dcs_1',\n",
       "       'deliveries_per_shipping_point_units.dcs_2', 'lr-Adam',\n",
       "       'deliveries_per_shipping_point_orders.dcs_2',\n",
       "       'incoming_interplants.dcs_1', 'lr-Adam-momentum', '_timestamp',\n",
       "       'episode_reward', 'loss', 'episodes', 'reward', 'epoch'],\n",
       "      dtype='object')"
      ]
     },
     "execution_count": 40,
     "metadata": {},
     "output_type": "execute_result"
    }
   ],
   "source": [
    "run.history().columns"
   ]
  },
  {
   "cell_type": "markdown",
   "id": "bc714a65-d138-40c3-9c60-576a3f79c402",
   "metadata": {},
   "source": [
    "## See summary metrics"
   ]
  },
  {
   "cell_type": "code",
   "execution_count": 52,
   "id": "7b69e0cc-a3a6-48f7-b114-15c1a33d8d85",
   "metadata": {},
   "outputs": [
    {
     "data": {
      "text/plain": [
       "{'loss': 0.5263208746910095,\n",
       " '_step': 305,\n",
       " 'reward': {'mean': 8.237494071324667},\n",
       " 'lr-Adam': 0.008978497641064193,\n",
       " '_timestamp': 1636476107,\n",
       " 'episode_reward': 0,\n",
       " 'average_cost_ep': {'mean': 159691.65454545457},\n",
       " 'mean_dcs_per_customer': {'mean': 1},\n",
       " '_wandb': {'runtime': 13},\n",
       " 'big_m_count': 0,\n",
       " 'total_interplants': {'mean': 8090.818181818182},\n",
       " 'episode_process_time_s': {'mean': 0.7086605454545455},\n",
       " 'episode_process_time_ns': {'mean': 708660545.4545455},\n",
       " 'epoch': 299,\n",
       " '_runtime': 13,\n",
       " 'episodes': 11,\n",
       " 'lr-Adam-momentum': 0.9,\n",
       " 'trainer/global_step': 299}"
      ]
     },
     "execution_count": 52,
     "metadata": {},
     "output_type": "execute_result"
    }
   ],
   "source": [
    "dict(run.summary)"
   ]
  },
  {
   "cell_type": "markdown",
   "id": "710e39d7-bbb7-4dab-8e92-1ddf1a9f3ca3",
   "metadata": {},
   "source": [
    "## Use scan_history to fetch all the data of a run in an iterator."
   ]
  },
  {
   "cell_type": "code",
   "execution_count": 37,
   "id": "e6e6457c-77fe-4bd6-96f7-449231790074",
   "metadata": {},
   "outputs": [],
   "source": [
    "history_scan=run.scan_history(keys=[\"deliveries_per_shipping_point_orders*\"])"
   ]
  },
  {
   "cell_type": "code",
   "execution_count": 74,
   "id": "22bdc79b-b4ef-4a0f-a5ba-ae20a53d6679",
   "metadata": {},
   "outputs": [
    {
     "data": {
      "text/plain": [
       "<Run jotaporras/deleteme_final_experiment_test/uug91pt4 (finished)>"
      ]
     },
     "execution_count": 74,
     "metadata": {},
     "output_type": "execute_result"
    }
   ],
   "source": [
    "run"
   ]
  },
  {
   "cell_type": "code",
   "execution_count": 38,
   "id": "2d88c82e-c76f-4900-b207-2ea7cb4a14e5",
   "metadata": {},
   "outputs": [
    {
     "data": {
      "text/plain": [
       "0"
      ]
     },
     "execution_count": 38,
     "metadata": {},
     "output_type": "execute_result"
    }
   ],
   "source": [
    "lh=list(history_scan)\n",
    "len(lh)"
   ]
  },
  {
   "cell_type": "code",
   "execution_count": 29,
   "id": "0654639e-0467-4052-a188-73a72781fb5e",
   "metadata": {},
   "outputs": [],
   "source": [
    "import pandas as pd\n",
    "full_data=pd.DataFrame(lh)"
   ]
  },
  {
   "cell_type": "code",
   "execution_count": 31,
   "id": "09f3e46d-8f6a-4575-a312-aca3c155fd85",
   "metadata": {},
   "outputs": [
    {
     "data": {
      "text/plain": [
       "Index(['big_m_count', 'trainer/global_step', 'incoming_interplants.dcs_0',\n",
       "       'incoming_interplants.dcs_3', '_step',\n",
       "       'deliveries_per_shipping_point_units.dcs_0', 'mean_dcs_per_customer',\n",
       "       'deliveries_per_shipping_point_orders.dcs_4',\n",
       "       'deliveries_per_shipping_point_orders.dcs_1', '_runtime',\n",
       "       'average_cost_ep', 'total_interplants', 'incoming_interplants.dcs_4',\n",
       "       'incoming_interplants.dcs_2',\n",
       "       'deliveries_per_shipping_point_orders.dcs_3',\n",
       "       'deliveries_per_shipping_point_orders.dcs_0',\n",
       "       'deliveries_per_shipping_point_units.dcs_1',\n",
       "       'deliveries_per_shipping_point_units.dcs_2', 'lr-Adam',\n",
       "       'deliveries_per_shipping_point_orders.dcs_2',\n",
       "       'incoming_interplants.dcs_1', 'lr-Adam-momentum',\n",
       "       'deliveries_per_shipping_point_units.dcs_3',\n",
       "       'deliveries_per_shipping_point_units.dcs_4', '_timestamp',\n",
       "       'parameters/net.0.weight', 'parameters/net.0.sigma_bias',\n",
       "       'parameters/net.2.weight', 'parameters/net.0.sigma_weight',\n",
       "       'parameters/net.0.bias', 'parameters/net.2.sigma_weight',\n",
       "       'parameters/net.2.sigma_bias', 'parameters/net.2.bias',\n",
       "       'gradients/net.0.sigma_weight', 'gradients/net.2.bias',\n",
       "       'gradients/net.2.sigma_bias', 'gradients/net.2.weight',\n",
       "       'gradients/net.2.sigma_weight', 'gradients/net.0.weight',\n",
       "       'gradients/net.0.bias', 'gradients/net.0.sigma_bias', 'episode_reward',\n",
       "       'loss', 'episodes', 'reward', 'epoch'],\n",
       "      dtype='object')"
      ]
     },
     "execution_count": 31,
     "metadata": {},
     "output_type": "execute_result"
    }
   ],
   "source": [
    "full_data.columns"
   ]
  },
  {
   "cell_type": "markdown",
   "id": "080a70e1-c815-40ff-b9c9-a3b025556d0a",
   "metadata": {
    "tags": []
   },
   "source": [
    "## Select a list of runs (from a sweep)"
   ]
  },
  {
   "cell_type": "code",
   "execution_count": 76,
   "id": "dcccd334-0cec-43f8-a340-ad268caecbde",
   "metadata": {},
   "outputs": [],
   "source": [
    "sweep_obj=api.sweep(path=\"jotaporras/deleteme_final_experiment_test/vn1xo6dy\")\n",
    "sweep_runs = list(sweep_obj.runs)"
   ]
  },
  {
   "cell_type": "code",
   "execution_count": 187,
   "id": "9ad27f88-48b3-4607-8c23-f940eb993f60",
   "metadata": {},
   "outputs": [
    {
     "data": {
      "text/plain": [
       "'vn1xo6dy'"
      ]
     },
     "execution_count": 187,
     "metadata": {},
     "output_type": "execute_result"
    }
   ],
   "source": [
    "sweep_obj."
   ]
  },
  {
   "cell_type": "markdown",
   "id": "9dd89f20-6ce3-49f4-b076-4f2e1404e243",
   "metadata": {},
   "source": [
    "## What to do with summary metrics"
   ]
  },
  {
   "cell_type": "code",
   "execution_count": null,
   "id": "c372853c-e958-42f0-bf63-18bd0ad927e0",
   "metadata": {},
   "outputs": [],
   "source": []
  },
  {
   "cell_type": "code",
   "execution_count": 88,
   "id": "cd661d4a-481b-4a12-ac54-fe2fc2638e24",
   "metadata": {},
   "outputs": [],
   "source": [
    "sweep = dict(sweep_runs[0].summary)\n",
    "#[flat_dict] = pd.json_normalize(sweep, sep='').to_dict(orient='records')\n",
    "#flat_dict"
   ]
  },
  {
   "cell_type": "code",
   "execution_count": 96,
   "id": "c2f33301-1702-4be1-a819-d389b5ee765b",
   "metadata": {},
   "outputs": [
    {
     "data": {
      "text/plain": [
       "wandb.old.summary.SummarySubDict"
      ]
     },
     "execution_count": 96,
     "metadata": {},
     "output_type": "execute_result"
    }
   ],
   "source": [
    "type(sweep['episode_process_time_s'])"
   ]
  },
  {
   "cell_type": "code",
   "execution_count": 143,
   "id": "170f8915-671c-475e-ba04-63f22be6f638",
   "metadata": {},
   "outputs": [],
   "source": [
    "puredict = {}\n",
    "for k,v in dict(sweep_runs[0].summary).items():\n",
    "    if hasattr(v,'__dict__'):\n",
    "        dict_v = dict(v)\n",
    "        puredict[k]=dict_v\n",
    "    else: \n",
    "        puredict[k]=v"
   ]
  },
  {
   "cell_type": "code",
   "execution_count": 145,
   "id": "b3d1ab8a-70d6-4a00-b89e-18c83179f889",
   "metadata": {},
   "outputs": [],
   "source": [
    "summdict=pd.json_normalize(puredict, sep='_')#.to_dict(orient='records')"
   ]
  },
  {
   "cell_type": "code",
   "execution_count": 151,
   "id": "713d7049-56c6-4881-bfeb-00389390b735",
   "metadata": {},
   "outputs": [],
   "source": [
    "summdict.columns=[c.replace(\"/\",\"_\")for c in summdict.columns]"
   ]
  },
  {
   "cell_type": "code",
   "execution_count": 162,
   "id": "67a3371f-bb63-41d2-b3f1-86828e97700f",
   "metadata": {},
   "outputs": [
    {
     "data": {
      "text/plain": [
       "[{'_timestamp': 1636476107,\n",
       "  '_runtime': 13,\n",
       "  'lr-Adam-momentum': 0.9,\n",
       "  'trainer_global_step': 299,\n",
       "  'loss': 0.5263208746910095,\n",
       "  '_step': 305,\n",
       "  'epoch': 299,\n",
       "  'episode_reward': 0,\n",
       "  'lr-Adam': 0.008978497641064193,\n",
       "  'episodes': 11,\n",
       "  'big_m_count': 0,\n",
       "  'episode_process_time_s_mean': 0.7086605454545455,\n",
       "  'reward_mean': 8.237494071324667,\n",
       "  'average_cost_ep_mean': 159691.65454545457,\n",
       "  'mean_dcs_per_customer_mean': 1,\n",
       "  'episode_process_time_ns_mean': 708660545.4545455,\n",
       "  'wandb_runtime': 13,\n",
       "  'total_interplants_mean': 8090.818181818182}]"
      ]
     },
     "execution_count": 162,
     "metadata": {},
     "output_type": "execute_result"
    }
   ],
   "source": []
  },
  {
   "cell_type": "code",
   "execution_count": 101,
   "id": "c5edfbf5-d638-463b-93c1-6e2c8eabdb38",
   "metadata": {},
   "outputs": [
    {
     "data": {
      "text/plain": [
       "{'mean': 0.7086605454545455}"
      ]
     },
     "execution_count": 101,
     "metadata": {},
     "output_type": "execute_result"
    }
   ],
   "source": [
    "sweep['episode_process_time_s']\n"
   ]
  },
  {
   "cell_type": "code",
   "execution_count": 108,
   "id": "2ae04dd4-4c85-46ee-b63d-f8ed38bca26f",
   "metadata": {},
   "outputs": [
    {
     "data": {
      "text/plain": [
       "True"
      ]
     },
     "execution_count": 108,
     "metadata": {},
     "output_type": "execute_result"
    }
   ],
   "source": [
    "type(sweep['episode_reward'])==int"
   ]
  },
  {
   "cell_type": "code",
   "execution_count": 126,
   "id": "e41a1bfa-6275-4056-9fc8-0e71353aff63",
   "metadata": {},
   "outputs": [
    {
     "data": {
      "text/plain": [
       "False"
      ]
     },
     "execution_count": 126,
     "metadata": {},
     "output_type": "execute_result"
    }
   ],
   "source": [
    "hasattr(sweep['episode_reward'],'__dict__')"
   ]
  },
  {
   "cell_type": "code",
   "execution_count": 184,
   "id": "2c74d20e-1cee-42f7-b135-386dcdb52318",
   "metadata": {
    "tags": []
   },
   "outputs": [
    {
     "data": {
      "text/plain": [
       "{'episode_process_time_s': {'mean': 0.7086605454545455},\n",
       " 'reward': {'mean': 8.237494071324667},\n",
       " '_timestamp': 1636476107,\n",
       " 'average_cost_ep': {'mean': 159691.65454545457},\n",
       " 'mean_dcs_per_customer': {'mean': 1},\n",
       " 'episode_process_time_ns': {'mean': 708660545.4545455},\n",
       " '_wandb': {'runtime': 13},\n",
       " '_runtime': 13,\n",
       " 'lr-Adam-momentum': 0.9,\n",
       " 'total_interplants': {'mean': 8090.818181818182},\n",
       " 'trainer/global_step': 299,\n",
       " 'loss': 0.5263208746910095,\n",
       " '_step': 305,\n",
       " 'epoch': 299,\n",
       " 'episode_reward': 0,\n",
       " 'lr-Adam': 0.008978497641064193,\n",
       " 'episodes': 11,\n",
       " 'big_m_count': 0}"
      ]
     },
     "execution_count": 184,
     "metadata": {},
     "output_type": "execute_result"
    }
   ],
   "source": [
    "sweep"
   ]
  },
  {
   "cell_type": "code",
   "execution_count": 196,
   "id": "f78f5ec9-7d90-4867-b4d8-1f5b618a2aa1",
   "metadata": {},
   "outputs": [],
   "source": [
    "d=pd.read_csv(\"/Users/javier.porras/jota/tesis/ts_mcfrl/python/src/experiment_utils/deleteme_downloader/vn1xo6dy/5C3W1K1F1V_nn_mask_plus_consumption_rhrrh0a9_history_metrics.csv\")"
   ]
  },
  {
   "cell_type": "code",
   "execution_count": 197,
   "id": "bd85cc64-ebbc-4bff-bcfd-cfce81016866",
   "metadata": {},
   "outputs": [
    {
     "data": {
      "text/plain": [
       "(306, 23)"
      ]
     },
     "execution_count": 197,
     "metadata": {},
     "output_type": "execute_result"
    }
   ],
   "source": [
    "d.shape"
   ]
  },
  {
   "cell_type": "code",
   "execution_count": 198,
   "id": "2e76818b-fe96-4c4b-af39-f2ef0fb30853",
   "metadata": {},
   "outputs": [
    {
     "data": {
      "text/plain": [
       "Index(['big_m_count', 'trainer_global_step', 'incoming_interplants.dcs_0',\n",
       "       '_step', 'deliveries_per_shipping_point_units.dcs_0',\n",
       "       'mean_dcs_per_customer', 'episode_process_time_s',\n",
       "       'deliveries_per_shipping_point_orders.dcs_1', '_runtime',\n",
       "       'episode_process_time_ns', 'average_cost_ep', 'total_interplants',\n",
       "       'deliveries_per_shipping_point_orders.dcs_0',\n",
       "       'deliveries_per_shipping_point_units.dcs_1', 'lr_Adam',\n",
       "       'incoming_interplants.dcs_1', 'lr_Adam_momentum', '_timestamp',\n",
       "       'episode_reward', 'loss', 'episodes', 'reward', 'epoch'],\n",
       "      dtype='object')"
      ]
     },
     "execution_count": 198,
     "metadata": {},
     "output_type": "execute_result"
    }
   ],
   "source": [
    "d.columns"
   ]
  },
  {
   "cell_type": "code",
   "execution_count": 4,
   "id": "c2776ac3-de56-49ae-a698-54764c9087ed",
   "metadata": {},
   "outputs": [],
   "source": [
    "onesweep=api.sweep(f\"jotaporras/deleteme_sample_data_generator/joj05gvw\")"
   ]
  },
  {
   "cell_type": "code",
   "execution_count": 13,
   "id": "95f98cae-2809-4beb-be51-f12df4d616da",
   "metadata": {},
   "outputs": [
    {
     "data": {
      "text/plain": [
       "'sample_data_generator_test_rand'"
      ]
     },
     "execution_count": 13,
     "metadata": {},
     "output_type": "execute_result"
    }
   ],
   "source": [
    "onesweep.config['name']"
   ]
  },
  {
   "cell_type": "code",
   "execution_count": 17,
   "id": "0172e6c8-fcfc-46b5-a772-0734094d3f65",
   "metadata": {},
   "outputs": [
    {
     "data": {
      "text/plain": [
       "{'lr': 0.009,\n",
       " 'env': {'num_dcs': 3,\n",
       "  'version': 'v2',\n",
       "  'demand_var': 150,\n",
       "  'demand_mean': 600,\n",
       "  'big_m_factor': 10000,\n",
       "  'num_customers': 5,\n",
       "  'orders_per_day': 1,\n",
       "  'num_commodities': 3,\n",
       "  'order_generator': 'normal_multivariate',\n",
       "  'reward_function': 'negative_log_cost_minus_log_big_m_units',\n",
       "  'dcs_per_customer': 1},\n",
       " 'hps': {'lr': 0.009,\n",
       "  'gamma': 0.8,\n",
       "  'eps_end': 0.01,\n",
       "  'eps_start': 0.01,\n",
       "  'sync_rate': 30,\n",
       "  'batch_size': 32,\n",
       "  'replay_size': 30,\n",
       "  'max_episodes': 5,\n",
       "  'episode_length': 30,\n",
       "  'gnn_hidden_units': 1024,\n",
       "  'warm_start_steps': 30,\n",
       "  'lambda_lr_sched_discount': 0.999992},\n",
       " 'seed': 'None',\n",
       " 'agent': 'random_valid',\n",
       " 'gamma': 0.8,\n",
       " 'hps/lr': 0.009,\n",
       " 'eps_end': 0.01,\n",
       " 'version': 'v2',\n",
       " 'eps_start': 0.01,\n",
       " 'hps/gamma': 0.8,\n",
       " 'sync_rate': 30,\n",
       " 'batch_size': 32,\n",
       " 'demand_var': 150,\n",
       " 'demand_mean': 600,\n",
       " 'env/num_dcs': 3,\n",
       " 'env/version': 'v2',\n",
       " 'hps/eps_end': 0.01,\n",
       " 'replay_size': 30,\n",
       " 'big_m_factor': 10000,\n",
       " 'env_codename': '5C3W3K1F1V',\n",
       " 'max_episodes': 5,\n",
       " 'project_name': 'sample_data_generator_test',\n",
       " 'hps/eps_start': 0.01,\n",
       " 'hps/sync_rate': 30,\n",
       " 'env/demand_var': 150,\n",
       " 'episode_length': 30,\n",
       " 'hps/batch_size': 32,\n",
       " 'env/demand_mean': 600,\n",
       " 'hps/replay_size': 30,\n",
       " 'order_generator': 'normal_multivariate',\n",
       " 'reward_function': 'negative_log_cost_minus_log_big_m_units',\n",
       " 'env/big_m_factor': 10000,\n",
       " 'gnn_hidden_units': 1024,\n",
       " 'hps/max_episodes': 5,\n",
       " 'warm_start_steps': 30,\n",
       " 'env/num_customers': 5,\n",
       " 'run_iteration_num': 3,\n",
       " 'env/orders_per_day': 1,\n",
       " 'hps/episode_length': 30,\n",
       " 'env/num_commodities': 3,\n",
       " 'env/order_generator': 'normal_multivariate',\n",
       " 'env/reward_function': 'negative_log_cost_minus_log_big_m_units',\n",
       " 'env/dcs_per_customer': 1,\n",
       " 'hps/gnn_hidden_units': 1024,\n",
       " 'hps/warm_start_steps': 30,\n",
       " 'lambda_lr_sched_discount': 0.999992,\n",
       " 'hps/lambda_lr_sched_discount': 0.999992}"
      ]
     },
     "execution_count": 17,
     "metadata": {},
     "output_type": "execute_result"
    }
   ],
   "source": [
    "onesweep.runs[0].config"
   ]
  },
  {
   "cell_type": "code",
   "execution_count": 21,
   "id": "d41906f1-a496-4472-b922-a123a8b3f746",
   "metadata": {},
   "outputs": [],
   "source": [
    "def summary_to_dict(wandb_summary: \"wandb.old.summary.HTTPSummary\") -> dict:\n",
    "    \"\"\"Converts a wandb summary object (from my project) to a dict with columns flattened\"\"\"\n",
    "    summary_dict = dict(wandb_summary)\n",
    "    puredict = {}\n",
    "    for k, v in summary_dict.items():\n",
    "        if hasattr(v, \"__dict__\"):\n",
    "            puredict[k] = dict(v)\n",
    "        else:\n",
    "            puredict[k] = v\n",
    "    summary_df = pd.json_normalize(puredict, sep=\"_\")\n",
    "    summary_df.columns = [c.replace(\"/\", \"_\") for c in summary_df.columns]\n",
    "    [flattened_summary_dict] = summary_df.to_dict(orient=\"records\")\n",
    "    return flattened_summary_dict\n"
   ]
  },
  {
   "cell_type": "code",
   "execution_count": 20,
   "id": "96bc2d89-1804-47cc-83d7-c411d99c33d0",
   "metadata": {},
   "outputs": [
    {
     "ename": "NameError",
     "evalue": "name 'pd' is not defined",
     "output_type": "error",
     "traceback": [
      "\u001b[0;31m---------------------------------------------------------------------------\u001b[0m",
      "\u001b[0;31mNameError\u001b[0m                                 Traceback (most recent call last)",
      "\u001b[0;32m<ipython-input-20-a2e193eb43bc>\u001b[0m in \u001b[0;36m<module>\u001b[0;34m\u001b[0m\n\u001b[0;32m----> 1\u001b[0;31m \u001b[0msummary_to_dict\u001b[0m\u001b[0;34m(\u001b[0m\u001b[0monesweep\u001b[0m\u001b[0;34m.\u001b[0m\u001b[0mruns\u001b[0m\u001b[0;34m[\u001b[0m\u001b[0;36m0\u001b[0m\u001b[0;34m]\u001b[0m\u001b[0;34m.\u001b[0m\u001b[0mconfig\u001b[0m\u001b[0;34m)\u001b[0m\u001b[0;34m\u001b[0m\u001b[0;34m\u001b[0m\u001b[0m\n\u001b[0m",
      "\u001b[0;32m<ipython-input-19-58fb58d05bb6>\u001b[0m in \u001b[0;36msummary_to_dict\u001b[0;34m(wandb_summary)\u001b[0m\n\u001b[1;32m      8\u001b[0m         \u001b[0;32melse\u001b[0m\u001b[0;34m:\u001b[0m\u001b[0;34m\u001b[0m\u001b[0;34m\u001b[0m\u001b[0m\n\u001b[1;32m      9\u001b[0m             \u001b[0mpuredict\u001b[0m\u001b[0;34m[\u001b[0m\u001b[0mk\u001b[0m\u001b[0;34m]\u001b[0m \u001b[0;34m=\u001b[0m \u001b[0mv\u001b[0m\u001b[0;34m\u001b[0m\u001b[0;34m\u001b[0m\u001b[0m\n\u001b[0;32m---> 10\u001b[0;31m     \u001b[0msummary_df\u001b[0m \u001b[0;34m=\u001b[0m \u001b[0mpd\u001b[0m\u001b[0;34m.\u001b[0m\u001b[0mjson_normalize\u001b[0m\u001b[0;34m(\u001b[0m\u001b[0mpuredict\u001b[0m\u001b[0;34m,\u001b[0m \u001b[0msep\u001b[0m\u001b[0;34m=\u001b[0m\u001b[0;34m\"_\"\u001b[0m\u001b[0;34m)\u001b[0m\u001b[0;34m\u001b[0m\u001b[0;34m\u001b[0m\u001b[0m\n\u001b[0m\u001b[1;32m     11\u001b[0m     \u001b[0msummary_df\u001b[0m\u001b[0;34m.\u001b[0m\u001b[0mcolumns\u001b[0m \u001b[0;34m=\u001b[0m \u001b[0;34m[\u001b[0m\u001b[0mc\u001b[0m\u001b[0;34m.\u001b[0m\u001b[0mreplace\u001b[0m\u001b[0;34m(\u001b[0m\u001b[0;34m\"/\"\u001b[0m\u001b[0;34m,\u001b[0m \u001b[0;34m\"_\"\u001b[0m\u001b[0;34m)\u001b[0m \u001b[0;32mfor\u001b[0m \u001b[0mc\u001b[0m \u001b[0;32min\u001b[0m \u001b[0msummary_df\u001b[0m\u001b[0;34m.\u001b[0m\u001b[0mcolumns\u001b[0m\u001b[0;34m]\u001b[0m\u001b[0;34m\u001b[0m\u001b[0;34m\u001b[0m\u001b[0m\n\u001b[1;32m     12\u001b[0m     \u001b[0;34m[\u001b[0m\u001b[0mflattened_summary_dict\u001b[0m\u001b[0;34m]\u001b[0m \u001b[0;34m=\u001b[0m \u001b[0msummary_df\u001b[0m\u001b[0;34m.\u001b[0m\u001b[0mto_dict\u001b[0m\u001b[0;34m(\u001b[0m\u001b[0morient\u001b[0m\u001b[0;34m=\u001b[0m\u001b[0;34m\"records\"\u001b[0m\u001b[0;34m)\u001b[0m\u001b[0;34m\u001b[0m\u001b[0;34m\u001b[0m\u001b[0m\n",
      "\u001b[0;31mNameError\u001b[0m: name 'pd' is not defined"
     ]
    }
   ],
   "source": [
    "summary_to_dict(onesweep.runs[0].config)"
   ]
  }
 ],
 "metadata": {
  "kernelspec": {
   "display_name": "Python 3 (ipykernel)",
   "language": "python",
   "name": "python3"
  },
  "language_info": {
   "codemirror_mode": {
    "name": "ipython",
    "version": 3
   },
   "file_extension": ".py",
   "mimetype": "text/x-python",
   "name": "python",
   "nbconvert_exporter": "python",
   "pygments_lexer": "ipython3",
   "version": "3.7.10"
  }
 },
 "nbformat": 4,
 "nbformat_minor": 5
}
